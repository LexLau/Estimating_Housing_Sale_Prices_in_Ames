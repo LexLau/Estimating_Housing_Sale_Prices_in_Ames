{
 "cells": [
  {
   "cell_type": "markdown",
   "metadata": {},
   "source": [
    "\n",
    "\n",
    "# Project 2 - Ames Housing Data and Kaggle Challenge\n",
    "\n",
    "### By Alex Lau\n",
    "\n",
    "- [Problem Statement](#Problem-Statement)\n",
    "- [Project Files](#Project-Files)\n",
    "- [Executive Summary](#Executive-Summary)\n",
    "- [Data Dictionary](#Data_Dictionary)\n",
    "- [Conclusion/Recommendations](#Conclusion/Recommendations)\n",
    "\n",
    "\n",
    "## Problem Statement\n",
    "\n",
    "Each year hundreds of households in Ames, Iowa purchase and sell homes that range in price from as low as 13,000 USD to over 600,000 USD. With so many variations depending on vast amounts of features, how can people ensure their homes are appropriately priced? We attemp to build a model to predict housing prices using Elastic Net Regression to analyze 78 features for over 2,000 homes sold between 2006 and 2010. Our goal is to identify key housing features that would influence the sale price by striving for a 90% prediction accuracy rate. This tool will help buyers and sellers come to a fair price.\n",
    "\n",
    "---\n",
    "\n",
    "## Project Files\n",
    "\n",
    "Below are supporting files for our project:\n",
    "\n",
    "- [Ames Housing Data Slides](./Aimes_Housing_Sales_Prices.pptx)\n",
    "- [Ames Housing Data Notebook](./code/Ames_Housing_Data_Alex_Lau.ipynb)\n",
    "- [Train Data Set](./datasets/train.csv)\n",
    "- [Test Data Set](./datasets/train.csv)\n",
    "\n",
    "\n",
    "---\n",
    "\n",
    "## Executive Summary\n",
    "\n",
    "Our approach was to first decide where to pull the datasets from. We have partnered with the city of Ames to analyze homes sold \n",
    "I incorporated Pandas, Sklearn, and Statsmodels to derive at the correlations, P-values Coefficients for each feature in relation to the sale price. From my analysis, I have identified that housing prices are positively skewed, with a mean of 181,000 USD but a median of 162,500 USD. This means in order to have a more normal distribution, we could log the values to reduce heteroscedasticity that exists toward the higher selling homes. \n",
    "\n",
    "---\n",
    "\n",
    "## Conclusion/Recommendations\n",
    "\n",
    "We have identified correlation values associated to each of the 78 features we analysed and have narrowed down to 5 that sellers should focus on achieve the highest Elastic Net Regression is a useful model that is useful for helping to identify the best proportion of Ridge vs LASSO regression. Both LASSO and Ridge regression models have performed better than Linear. Unforunately, there will always be outliers that negatively affect our model, but the goal is build one that can generalize well. We have successully accurately predicted over 90% of the sales prices with our model. \n",
    "\n",
    "---\n",
    "## Data Dictionary\n",
    "- [Ames Data Dictionary](http://jse.amstat.org/v19n3/decock/DataDocumentation.txt)\n",
    "---\n",
    "## Source Documentation and Data Dictionary\n",
    "\n",
    "- [City of Ames Site](http://www.cityofames.org/assessor/)\n",
    "\n",
    "Individual homes within the data set can be referenced directly from the Ames City Assessor webpage. Click on “property search” and enter the Parcel ID (PID) found in the data set to find more information on that property. Note these are nominal values (non-numeric) so preceding 0’s must be included in the data entry field on the website. A city map showing the location of all the neighborhoods is also available on the Ames site and can be accessed by clicking on “Maps”  and then “Residential Assessment Neighborhoods (City of Ames Only)”.\n",
    "\n",
    "- [Beacon Site](http://beacon.schneidercorp.com/Default.aspx)\n",
    "\n",
    "An alternative method of accessing this database is through the Beacon website and inputting Iowa and Ames in the appropriate fields.\n"
   ]
  }
 ],
 "metadata": {
  "kernelspec": {
   "display_name": "Python 3",
   "language": "python",
   "name": "python3"
  },
  "language_info": {
   "codemirror_mode": {
    "name": "ipython",
    "version": 3
   },
   "file_extension": ".py",
   "mimetype": "text/x-python",
   "name": "python",
   "nbconvert_exporter": "python",
   "pygments_lexer": "ipython3",
   "version": "3.7.5"
  }
 },
 "nbformat": 4,
 "nbformat_minor": 2
}
