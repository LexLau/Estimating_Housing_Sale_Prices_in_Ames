{
 "cells": [
  {
   "cell_type": "markdown",
   "metadata": {},
   "source": [
    "\n",
    "\n",
    "# Project 2 - Ames Housing Data and Kaggle Challenge\n",
    "\n",
    "### By Alex Lau\n",
    "\n",
    "- [Problem Statement](#Problem-Statement)\n",
    "- [Project Files](#Project-Files)\n",
    "- [Executive Summary](#Executive-Summary)\n",
    "- [Data Dictionary](#Data_Dictionary)\n",
    "- [Conclusion/Recommendations](#Conclusion/Recommendations)\n",
    "\n",
    "\n",
    "## Problem Statement\n",
    "\n",
    "Students from every state of the United States take the SAT College entrance exams. Although this has been a popular method of college admissions, there is a competitor, the ACT, that yields far greater participation rates. How can the College Board increase participation rates across the country to become the leading and standard college entrance exam across the country? What are key factors that would cause certain states to have lower SAT participation rates than others? \n",
    "\n",
    "---\n",
    "\n",
    "## Project Files\n",
    "\n",
    "Below are supporting files for our project:\n",
    "\n",
    "- [Ames Housing Data Slides](./Aimes_Housing_Sales_Prices.pptx)\n",
    "- [Ames Housing Data Notebook](./code/Ames_Housing_Data_Alex_Lau.ipynb)\n",
    "- [Train Data Set](./datasets/train.csv)\n",
    "- [Test Data Set](./datasets/train.csv)\n",
    "\n",
    "\n",
    "---\n",
    "\n",
    "## Executive Summary\n",
    "\n",
    "My approach was to first decide where to pull the datasets from. For SAT, I found CollegeVine had aggregated the data directly from College Board, the source. For ACT, I analyzed the average SAT and ACT scores and participation rates from each state in the United States. I am seeking to identify trends in the data and combine my data analysis with outside research to identify likely factors influencing participation rates and scores in various states. Ultimately I will use this data to derive at conclusions and recommendations that will seek to improve the participation rates, bring brand recognition \n",
    "\n",
    "I incorporated Pandas and statistics to derive at the mean, min, max, standard deviations of the state participation rates and scores for all components of the ACT and SAT exams. From my analysis, I have identified that 40% of the states have a SAT participation rate of below 20%. Even more alarming is that the mean participation rate for students taking the ACT is 62% vs 45% for the SAT rates, meaning we are far behind our competitors. The good news is that between 2017 and 2018, we have seen a rise in SAT participation, mostly in states that have recently adopted the SAT as a required exam, such as Illinois, Colorado, West Virginia. Previously, these states experienced very low turnout for the exam, in the teens. This means we have now gained access to a pool of students who previously would not have taken the exam. \n",
    "\n",
    "In addition to the scores and participation rates, I have also reviewed PrincetonReview's ACT vs SAT requirements for each state. I found that 8 states required the SAT exam, and 9 states required the ACT. All of these states that have exam requirements cover the cost of the exams for the students. I used Exploratory Data Analysis help derive at trends and correlation between the statistics of past ACT and SAT exam takers, and the state requirements. There were small score increases across 5 states that had consistent 2017 and 2018 participation rates perhaps indicating a tendency for students to either prepare or perform better as students become more familiarized with the SAT\n",
    "\n",
    "---\n",
    "\n",
    "## Conclusion/Recommendations\n",
    "\n",
    "I have found negative correlations between the participation rates of ACT and SAT exams. Most students who participate in college entrance exams tend to only take one of the two exams but not both. It is in our best interest to win over states that choose the ACT, but it will be difficult if states have legislature that mandates the ACT exam. These decisions are not taken lightly, so we should coordinate with each state's education departments to understand their needs and how we can best currate the SAT exam to meet not only those individual states, but all states. Specifically, we should consider including subjects or material that the ACT exam covers but the SAT does not. It may be impossible to produce a one size fits all approach, but we can aim for one size fits most. \n",
    "\n",
    "The simpler near term solution is to partner with states that currently do not have SAT or ACT requirements, specifically Iowa. Iowa has one of the lowest student participation rates of the SAT exam in the country, and we would expect a high return on our investment. TThere is a low barrier of entry and offers a high yield. Upon implementing a strategy for Iowa, we can then focus on the remaining states that currently do not require SAT or ACT exams for students. These are prime targets for College Board to showcase the rigorous SAT as an effective college admission exam. \n",
    "\n",
    "---\n",
    "## Data Dictionary\n",
    "- [Ames Data Dictionary](http://jse.amstat.org/v19n3/decock/DataDocumentation.txt)\n",
    "---\n",
    "## Source Documentation and Data Dictionary\n",
    "\n",
    "- [City of Ames Site](http://www.cityofames.org/assessor/)\n",
    "\n",
    "Individual homes within the data set can be referenced directly from the Ames City Assessor webpage. Click on “property search” and enter the Parcel ID (PID) found in the data set to find more information on that property. Note these are nominal values (non-numeric) so preceding 0’s must be included in the data entry field on the website. A city map showing the location of all the neighborhoods is also available on the Ames site and can be accessed by clicking on “Maps”  and then “Residential Assessment Neighborhoods (City of Ames Only)”.\n",
    "\n",
    "- [Beacon Site](http://beacon.schneidercorp.com/Default.aspx)\n",
    "\n",
    "An alternative method of accessing this database is through the Beacon website and inputting Iowa and Ames in the appropriate fields.\n"
   ]
  },
  {
   "cell_type": "code",
   "execution_count": null,
   "metadata": {},
   "outputs": [],
   "source": []
  }
 ],
 "metadata": {
  "kernelspec": {
   "display_name": "Python 3",
   "language": "python",
   "name": "python3"
  },
  "language_info": {
   "codemirror_mode": {
    "name": "ipython",
    "version": 3
   },
   "file_extension": ".py",
   "mimetype": "text/x-python",
   "name": "python",
   "nbconvert_exporter": "python",
   "pygments_lexer": "ipython3",
   "version": "3.7.5"
  }
 },
 "nbformat": 4,
 "nbformat_minor": 2
}
